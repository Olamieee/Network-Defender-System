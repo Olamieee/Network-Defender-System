{
 "cells": [
  {
   "cell_type": "markdown",
   "metadata": {},
   "source": [
    "<h2>Deep Learning Classification Model</h2>"
   ]
  },
  {
   "cell_type": "code",
   "execution_count": 2,
   "metadata": {},
   "outputs": [],
   "source": [
    "import pandas as pd\n",
    "import numpy as np\n",
    "from sklearn.preprocessing import LabelEncoder, StandardScaler\n",
    "import seaborn as sb\n",
    "from tensorflow.keras.layers import Dense, Dropout\n",
    "from tensorflow.keras.layers import Dense\n",
    "from tensorflow.keras.optimizers import Adam\n",
    "import tensorflow as tf\n",
    "from tensorflow.keras.models import Sequential\n",
    "from imblearn.over_sampling import RandomOverSampler\n",
    "from sklearn.model_selection import train_test_split\n",
    "import matplotlib.pyplot as plt\n",
    "from sklearn.metrics import accuracy_score, precision_score, recall_score, f1_score, ConfusionMatrixDisplay, confusion_matrix"
   ]
  },
  {
   "cell_type": "code",
   "execution_count": 3,
   "metadata": {},
   "outputs": [
    {
     "data": {
      "text/html": [
       "<div>\n",
       "<style scoped>\n",
       "    .dataframe tbody tr th:only-of-type {\n",
       "        vertical-align: middle;\n",
       "    }\n",
       "\n",
       "    .dataframe tbody tr th {\n",
       "        vertical-align: top;\n",
       "    }\n",
       "\n",
       "    .dataframe thead th {\n",
       "        text-align: right;\n",
       "    }\n",
       "</style>\n",
       "<table border=\"1\" class=\"dataframe\">\n",
       "  <thead>\n",
       "    <tr style=\"text-align: right;\">\n",
       "      <th></th>\n",
       "      <th>src_ip</th>\n",
       "      <th>src_port</th>\n",
       "      <th>dst_ip</th>\n",
       "      <th>dst_port</th>\n",
       "      <th>proto</th>\n",
       "      <th>service</th>\n",
       "      <th>duration</th>\n",
       "      <th>src_bytes</th>\n",
       "      <th>dst_bytes</th>\n",
       "      <th>conn_state</th>\n",
       "      <th>...</th>\n",
       "      <th>http_response_body_len</th>\n",
       "      <th>http_status_code</th>\n",
       "      <th>http_user_agent</th>\n",
       "      <th>http_orig_mime_types</th>\n",
       "      <th>http_resp_mime_types</th>\n",
       "      <th>weird_name</th>\n",
       "      <th>weird_addl</th>\n",
       "      <th>weird_notice</th>\n",
       "      <th>label</th>\n",
       "      <th>type</th>\n",
       "    </tr>\n",
       "  </thead>\n",
       "  <tbody>\n",
       "    <tr>\n",
       "      <th>0</th>\n",
       "      <td>192.168.1.37</td>\n",
       "      <td>4444</td>\n",
       "      <td>192.168.1.193</td>\n",
       "      <td>49178</td>\n",
       "      <td>tcp</td>\n",
       "      <td>-</td>\n",
       "      <td>290.371539</td>\n",
       "      <td>101568</td>\n",
       "      <td>2592</td>\n",
       "      <td>OTH</td>\n",
       "      <td>...</td>\n",
       "      <td>0</td>\n",
       "      <td>0</td>\n",
       "      <td>-</td>\n",
       "      <td>-</td>\n",
       "      <td>-</td>\n",
       "      <td>-</td>\n",
       "      <td>-</td>\n",
       "      <td>-</td>\n",
       "      <td>1</td>\n",
       "      <td>backdoor</td>\n",
       "    </tr>\n",
       "    <tr>\n",
       "      <th>1</th>\n",
       "      <td>192.168.1.193</td>\n",
       "      <td>49180</td>\n",
       "      <td>192.168.1.37</td>\n",
       "      <td>8080</td>\n",
       "      <td>tcp</td>\n",
       "      <td>-</td>\n",
       "      <td>0.000102</td>\n",
       "      <td>0</td>\n",
       "      <td>0</td>\n",
       "      <td>REJ</td>\n",
       "      <td>...</td>\n",
       "      <td>0</td>\n",
       "      <td>0</td>\n",
       "      <td>-</td>\n",
       "      <td>-</td>\n",
       "      <td>-</td>\n",
       "      <td>-</td>\n",
       "      <td>-</td>\n",
       "      <td>-</td>\n",
       "      <td>1</td>\n",
       "      <td>backdoor</td>\n",
       "    </tr>\n",
       "    <tr>\n",
       "      <th>2</th>\n",
       "      <td>192.168.1.193</td>\n",
       "      <td>49180</td>\n",
       "      <td>192.168.1.37</td>\n",
       "      <td>8080</td>\n",
       "      <td>tcp</td>\n",
       "      <td>-</td>\n",
       "      <td>0.000148</td>\n",
       "      <td>0</td>\n",
       "      <td>0</td>\n",
       "      <td>REJ</td>\n",
       "      <td>...</td>\n",
       "      <td>0</td>\n",
       "      <td>0</td>\n",
       "      <td>-</td>\n",
       "      <td>-</td>\n",
       "      <td>-</td>\n",
       "      <td>-</td>\n",
       "      <td>-</td>\n",
       "      <td>-</td>\n",
       "      <td>1</td>\n",
       "      <td>backdoor</td>\n",
       "    </tr>\n",
       "    <tr>\n",
       "      <th>3</th>\n",
       "      <td>192.168.1.193</td>\n",
       "      <td>49180</td>\n",
       "      <td>192.168.1.37</td>\n",
       "      <td>8080</td>\n",
       "      <td>tcp</td>\n",
       "      <td>-</td>\n",
       "      <td>0.000113</td>\n",
       "      <td>0</td>\n",
       "      <td>0</td>\n",
       "      <td>REJ</td>\n",
       "      <td>...</td>\n",
       "      <td>0</td>\n",
       "      <td>0</td>\n",
       "      <td>-</td>\n",
       "      <td>-</td>\n",
       "      <td>-</td>\n",
       "      <td>-</td>\n",
       "      <td>-</td>\n",
       "      <td>-</td>\n",
       "      <td>1</td>\n",
       "      <td>backdoor</td>\n",
       "    </tr>\n",
       "    <tr>\n",
       "      <th>4</th>\n",
       "      <td>192.168.1.193</td>\n",
       "      <td>49180</td>\n",
       "      <td>192.168.1.37</td>\n",
       "      <td>8080</td>\n",
       "      <td>tcp</td>\n",
       "      <td>-</td>\n",
       "      <td>0.000130</td>\n",
       "      <td>0</td>\n",
       "      <td>0</td>\n",
       "      <td>REJ</td>\n",
       "      <td>...</td>\n",
       "      <td>0</td>\n",
       "      <td>0</td>\n",
       "      <td>-</td>\n",
       "      <td>-</td>\n",
       "      <td>-</td>\n",
       "      <td>-</td>\n",
       "      <td>-</td>\n",
       "      <td>-</td>\n",
       "      <td>1</td>\n",
       "      <td>backdoor</td>\n",
       "    </tr>\n",
       "  </tbody>\n",
       "</table>\n",
       "<p>5 rows × 44 columns</p>\n",
       "</div>"
      ],
      "text/plain": [
       "          src_ip  src_port         dst_ip  dst_port proto service    duration  \\\n",
       "0   192.168.1.37      4444  192.168.1.193     49178   tcp       -  290.371539   \n",
       "1  192.168.1.193     49180   192.168.1.37      8080   tcp       -    0.000102   \n",
       "2  192.168.1.193     49180   192.168.1.37      8080   tcp       -    0.000148   \n",
       "3  192.168.1.193     49180   192.168.1.37      8080   tcp       -    0.000113   \n",
       "4  192.168.1.193     49180   192.168.1.37      8080   tcp       -    0.000130   \n",
       "\n",
       "   src_bytes  dst_bytes conn_state  ...  http_response_body_len  \\\n",
       "0     101568       2592        OTH  ...                       0   \n",
       "1          0          0        REJ  ...                       0   \n",
       "2          0          0        REJ  ...                       0   \n",
       "3          0          0        REJ  ...                       0   \n",
       "4          0          0        REJ  ...                       0   \n",
       "\n",
       "   http_status_code  http_user_agent  http_orig_mime_types  \\\n",
       "0                 0                -                     -   \n",
       "1                 0                -                     -   \n",
       "2                 0                -                     -   \n",
       "3                 0                -                     -   \n",
       "4                 0                -                     -   \n",
       "\n",
       "   http_resp_mime_types weird_name  weird_addl  weird_notice  label      type  \n",
       "0                     -          -           -             -      1  backdoor  \n",
       "1                     -          -           -             -      1  backdoor  \n",
       "2                     -          -           -             -      1  backdoor  \n",
       "3                     -          -           -             -      1  backdoor  \n",
       "4                     -          -           -             -      1  backdoor  \n",
       "\n",
       "[5 rows x 44 columns]"
      ]
     },
     "execution_count": 3,
     "metadata": {},
     "output_type": "execute_result"
    }
   ],
   "source": [
    "df = pd.read_csv('train_test_network.csv')\n",
    "df.head()"
   ]
  },
  {
   "cell_type": "markdown",
   "metadata": {},
   "source": [
    "<h3>EDA<h3>"
   ]
  },
  {
   "cell_type": "code",
   "execution_count": 4,
   "metadata": {},
   "outputs": [
    {
     "name": "stdout",
     "output_type": "stream",
     "text": [
      "The chosen network dataset size contains 211043 rows and 44 columns.\n"
     ]
    }
   ],
   "source": [
    "print(\"The chosen network dataset size contains {} rows and {} columns.\".format(df.shape[0], df.shape[1]))"
   ]
  },
  {
   "cell_type": "code",
   "execution_count": 5,
   "metadata": {},
   "outputs": [
    {
     "name": "stdout",
     "output_type": "stream",
     "text": [
      "Checking Values for each columns in the dataset:\n"
     ]
    },
    {
     "data": {
      "text/plain": [
       "src_ip                    0\n",
       "src_port                  0\n",
       "dst_ip                    0\n",
       "dst_port                  0\n",
       "proto                     0\n",
       "service                   0\n",
       "duration                  0\n",
       "src_bytes                 0\n",
       "dst_bytes                 0\n",
       "conn_state                0\n",
       "missed_bytes              0\n",
       "src_pkts                  0\n",
       "src_ip_bytes              0\n",
       "dst_pkts                  0\n",
       "dst_ip_bytes              0\n",
       "dns_query                 0\n",
       "dns_qclass                0\n",
       "dns_qtype                 0\n",
       "dns_rcode                 0\n",
       "dns_AA                    0\n",
       "dns_RD                    0\n",
       "dns_RA                    0\n",
       "dns_rejected              0\n",
       "ssl_version               0\n",
       "ssl_cipher                0\n",
       "ssl_resumed               0\n",
       "ssl_established           0\n",
       "ssl_subject               0\n",
       "ssl_issuer                0\n",
       "http_trans_depth          0\n",
       "http_method               0\n",
       "http_uri                  0\n",
       "http_version              0\n",
       "http_request_body_len     0\n",
       "http_response_body_len    0\n",
       "http_status_code          0\n",
       "http_user_agent           0\n",
       "http_orig_mime_types      0\n",
       "http_resp_mime_types      0\n",
       "weird_name                0\n",
       "weird_addl                0\n",
       "weird_notice              0\n",
       "label                     0\n",
       "type                      0\n",
       "dtype: int64"
      ]
     },
     "execution_count": 5,
     "metadata": {},
     "output_type": "execute_result"
    }
   ],
   "source": [
    "print('Checking Values for each columns in the dataset:')\n",
    "df.isna().sum()"
   ]
  },
  {
   "cell_type": "markdown",
   "metadata": {},
   "source": [
    "- summary statistics for numerical columns"
   ]
  },
  {
   "cell_type": "code",
   "execution_count": 6,
   "metadata": {},
   "outputs": [
    {
     "data": {
      "text/html": [
       "<div>\n",
       "<style scoped>\n",
       "    .dataframe tbody tr th:only-of-type {\n",
       "        vertical-align: middle;\n",
       "    }\n",
       "\n",
       "    .dataframe tbody tr th {\n",
       "        vertical-align: top;\n",
       "    }\n",
       "\n",
       "    .dataframe thead th {\n",
       "        text-align: right;\n",
       "    }\n",
       "</style>\n",
       "<table border=\"1\" class=\"dataframe\">\n",
       "  <thead>\n",
       "    <tr style=\"text-align: right;\">\n",
       "      <th></th>\n",
       "      <th>src_port</th>\n",
       "      <th>dst_port</th>\n",
       "      <th>duration</th>\n",
       "      <th>src_bytes</th>\n",
       "      <th>dst_bytes</th>\n",
       "      <th>missed_bytes</th>\n",
       "      <th>src_pkts</th>\n",
       "      <th>src_ip_bytes</th>\n",
       "      <th>dst_pkts</th>\n",
       "      <th>dst_ip_bytes</th>\n",
       "      <th>dns_qclass</th>\n",
       "      <th>dns_qtype</th>\n",
       "      <th>dns_rcode</th>\n",
       "      <th>http_request_body_len</th>\n",
       "      <th>http_response_body_len</th>\n",
       "      <th>http_status_code</th>\n",
       "      <th>label</th>\n",
       "    </tr>\n",
       "  </thead>\n",
       "  <tbody>\n",
       "    <tr>\n",
       "      <th>count</th>\n",
       "      <td>211043.000000</td>\n",
       "      <td>211043.000000</td>\n",
       "      <td>211043.000000</td>\n",
       "      <td>2.110430e+05</td>\n",
       "      <td>2.110430e+05</td>\n",
       "      <td>2.110430e+05</td>\n",
       "      <td>211043.000000</td>\n",
       "      <td>2.110430e+05</td>\n",
       "      <td>211043.000000</td>\n",
       "      <td>2.110430e+05</td>\n",
       "      <td>211043.000000</td>\n",
       "      <td>211043.000000</td>\n",
       "      <td>211043.000000</td>\n",
       "      <td>211043.000000</td>\n",
       "      <td>2.110430e+05</td>\n",
       "      <td>211043.000000</td>\n",
       "      <td>211043.000000</td>\n",
       "    </tr>\n",
       "    <tr>\n",
       "      <th>mean</th>\n",
       "      <td>38646.519543</td>\n",
       "      <td>3495.153770</td>\n",
       "      <td>7.700887</td>\n",
       "      <td>2.581136e+05</td>\n",
       "      <td>2.588046e+05</td>\n",
       "      <td>3.443234e+04</td>\n",
       "      <td>9.595220</td>\n",
       "      <td>7.760822e+02</td>\n",
       "      <td>3.846861</td>\n",
       "      <td>1.584687e+03</td>\n",
       "      <td>227.630805</td>\n",
       "      <td>3.610909</td>\n",
       "      <td>0.123989</td>\n",
       "      <td>0.065418</td>\n",
       "      <td>1.449295e+02</td>\n",
       "      <td>0.303905</td>\n",
       "      <td>0.763081</td>\n",
       "    </tr>\n",
       "    <tr>\n",
       "      <th>std</th>\n",
       "      <td>19307.271048</td>\n",
       "      <td>10191.624778</td>\n",
       "      <td>564.141946</td>\n",
       "      <td>1.709490e+07</td>\n",
       "      <td>1.802563e+07</td>\n",
       "      <td>5.261621e+06</td>\n",
       "      <td>91.778821</td>\n",
       "      <td>2.229703e+04</td>\n",
       "      <td>330.705796</td>\n",
       "      <td>1.901795e+05</td>\n",
       "      <td>2720.713562</td>\n",
       "      <td>23.797747</td>\n",
       "      <td>0.598804</td>\n",
       "      <td>9.243405</td>\n",
       "      <td>3.047244e+04</td>\n",
       "      <td>8.270377</td>\n",
       "      <td>0.425193</td>\n",
       "    </tr>\n",
       "    <tr>\n",
       "      <th>min</th>\n",
       "      <td>1.000000</td>\n",
       "      <td>0.000000</td>\n",
       "      <td>0.000000</td>\n",
       "      <td>0.000000e+00</td>\n",
       "      <td>0.000000e+00</td>\n",
       "      <td>0.000000e+00</td>\n",
       "      <td>0.000000</td>\n",
       "      <td>0.000000e+00</td>\n",
       "      <td>0.000000</td>\n",
       "      <td>0.000000e+00</td>\n",
       "      <td>0.000000</td>\n",
       "      <td>0.000000</td>\n",
       "      <td>0.000000</td>\n",
       "      <td>0.000000</td>\n",
       "      <td>0.000000e+00</td>\n",
       "      <td>0.000000</td>\n",
       "      <td>0.000000</td>\n",
       "    </tr>\n",
       "    <tr>\n",
       "      <th>25%</th>\n",
       "      <td>34608.000000</td>\n",
       "      <td>65.000000</td>\n",
       "      <td>0.000000</td>\n",
       "      <td>0.000000e+00</td>\n",
       "      <td>0.000000e+00</td>\n",
       "      <td>0.000000e+00</td>\n",
       "      <td>1.000000</td>\n",
       "      <td>4.800000e+01</td>\n",
       "      <td>0.000000</td>\n",
       "      <td>0.000000e+00</td>\n",
       "      <td>0.000000</td>\n",
       "      <td>0.000000</td>\n",
       "      <td>0.000000</td>\n",
       "      <td>0.000000</td>\n",
       "      <td>0.000000e+00</td>\n",
       "      <td>0.000000</td>\n",
       "      <td>1.000000</td>\n",
       "    </tr>\n",
       "    <tr>\n",
       "      <th>50%</th>\n",
       "      <td>44754.000000</td>\n",
       "      <td>80.000000</td>\n",
       "      <td>0.000170</td>\n",
       "      <td>0.000000e+00</td>\n",
       "      <td>0.000000e+00</td>\n",
       "      <td>0.000000e+00</td>\n",
       "      <td>1.000000</td>\n",
       "      <td>8.200000e+01</td>\n",
       "      <td>1.000000</td>\n",
       "      <td>4.000000e+01</td>\n",
       "      <td>0.000000</td>\n",
       "      <td>0.000000</td>\n",
       "      <td>0.000000</td>\n",
       "      <td>0.000000</td>\n",
       "      <td>0.000000e+00</td>\n",
       "      <td>0.000000</td>\n",
       "      <td>1.000000</td>\n",
       "    </tr>\n",
       "    <tr>\n",
       "      <th>75%</th>\n",
       "      <td>51133.000000</td>\n",
       "      <td>1253.000000</td>\n",
       "      <td>0.054196</td>\n",
       "      <td>1.300000e+02</td>\n",
       "      <td>8.900000e+01</td>\n",
       "      <td>0.000000e+00</td>\n",
       "      <td>4.000000</td>\n",
       "      <td>4.150000e+02</td>\n",
       "      <td>2.000000</td>\n",
       "      <td>1.340000e+02</td>\n",
       "      <td>0.000000</td>\n",
       "      <td>0.000000</td>\n",
       "      <td>0.000000</td>\n",
       "      <td>0.000000</td>\n",
       "      <td>0.000000e+00</td>\n",
       "      <td>0.000000</td>\n",
       "      <td>1.000000</td>\n",
       "    </tr>\n",
       "    <tr>\n",
       "      <th>max</th>\n",
       "      <td>65528.000000</td>\n",
       "      <td>65467.000000</td>\n",
       "      <td>93516.929170</td>\n",
       "      <td>3.890855e+09</td>\n",
       "      <td>3.913853e+09</td>\n",
       "      <td>1.854527e+09</td>\n",
       "      <td>24623.000000</td>\n",
       "      <td>6.522626e+06</td>\n",
       "      <td>121942.000000</td>\n",
       "      <td>8.639552e+07</td>\n",
       "      <td>32769.000000</td>\n",
       "      <td>255.000000</td>\n",
       "      <td>5.000000</td>\n",
       "      <td>2338.000000</td>\n",
       "      <td>1.342438e+07</td>\n",
       "      <td>404.000000</td>\n",
       "      <td>1.000000</td>\n",
       "    </tr>\n",
       "  </tbody>\n",
       "</table>\n",
       "</div>"
      ],
      "text/plain": [
       "            src_port       dst_port       duration     src_bytes  \\\n",
       "count  211043.000000  211043.000000  211043.000000  2.110430e+05   \n",
       "mean    38646.519543    3495.153770       7.700887  2.581136e+05   \n",
       "std     19307.271048   10191.624778     564.141946  1.709490e+07   \n",
       "min         1.000000       0.000000       0.000000  0.000000e+00   \n",
       "25%     34608.000000      65.000000       0.000000  0.000000e+00   \n",
       "50%     44754.000000      80.000000       0.000170  0.000000e+00   \n",
       "75%     51133.000000    1253.000000       0.054196  1.300000e+02   \n",
       "max     65528.000000   65467.000000   93516.929170  3.890855e+09   \n",
       "\n",
       "          dst_bytes  missed_bytes       src_pkts  src_ip_bytes       dst_pkts  \\\n",
       "count  2.110430e+05  2.110430e+05  211043.000000  2.110430e+05  211043.000000   \n",
       "mean   2.588046e+05  3.443234e+04       9.595220  7.760822e+02       3.846861   \n",
       "std    1.802563e+07  5.261621e+06      91.778821  2.229703e+04     330.705796   \n",
       "min    0.000000e+00  0.000000e+00       0.000000  0.000000e+00       0.000000   \n",
       "25%    0.000000e+00  0.000000e+00       1.000000  4.800000e+01       0.000000   \n",
       "50%    0.000000e+00  0.000000e+00       1.000000  8.200000e+01       1.000000   \n",
       "75%    8.900000e+01  0.000000e+00       4.000000  4.150000e+02       2.000000   \n",
       "max    3.913853e+09  1.854527e+09   24623.000000  6.522626e+06  121942.000000   \n",
       "\n",
       "       dst_ip_bytes     dns_qclass      dns_qtype      dns_rcode  \\\n",
       "count  2.110430e+05  211043.000000  211043.000000  211043.000000   \n",
       "mean   1.584687e+03     227.630805       3.610909       0.123989   \n",
       "std    1.901795e+05    2720.713562      23.797747       0.598804   \n",
       "min    0.000000e+00       0.000000       0.000000       0.000000   \n",
       "25%    0.000000e+00       0.000000       0.000000       0.000000   \n",
       "50%    4.000000e+01       0.000000       0.000000       0.000000   \n",
       "75%    1.340000e+02       0.000000       0.000000       0.000000   \n",
       "max    8.639552e+07   32769.000000     255.000000       5.000000   \n",
       "\n",
       "       http_request_body_len  http_response_body_len  http_status_code  \\\n",
       "count          211043.000000            2.110430e+05     211043.000000   \n",
       "mean                0.065418            1.449295e+02          0.303905   \n",
       "std                 9.243405            3.047244e+04          8.270377   \n",
       "min                 0.000000            0.000000e+00          0.000000   \n",
       "25%                 0.000000            0.000000e+00          0.000000   \n",
       "50%                 0.000000            0.000000e+00          0.000000   \n",
       "75%                 0.000000            0.000000e+00          0.000000   \n",
       "max              2338.000000            1.342438e+07        404.000000   \n",
       "\n",
       "               label  \n",
       "count  211043.000000  \n",
       "mean        0.763081  \n",
       "std         0.425193  \n",
       "min         0.000000  \n",
       "25%         1.000000  \n",
       "50%         1.000000  \n",
       "75%         1.000000  \n",
       "max         1.000000  "
      ]
     },
     "execution_count": 6,
     "metadata": {},
     "output_type": "execute_result"
    }
   ],
   "source": [
    "df.describe()"
   ]
  },
  {
   "cell_type": "markdown",
   "metadata": {},
   "source": [
    "- class distribution for the target variable"
   ]
  },
  {
   "cell_type": "code",
   "execution_count": 7,
   "metadata": {},
   "outputs": [
    {
     "data": {
      "image/png": "[encoded data removed]",
      "text/plain": [
       "<Figure size 640x480 with 1 Axes>"
      ]
     },
     "metadata": {},
     "output_type": "display_data"
    }
   ],
   "source": [
    "sb.countplot(x='label', data=df)\n",
    "plt.title('Class Distribution')\n",
    "plt.show()"
   ]
  },
  {
   "cell_type": "markdown",
   "metadata": {},
   "source": [
    "<h3>Data Preprocessing<h3>"
   ]
  },
  {
   "cell_type": "markdown",
   "metadata": {},
   "source": [
    "- drop columns that are not needed"
   ]
  },
  {
   "cell_type": "code",
   "execution_count": 8,
   "metadata": {},
   "outputs": [
    {
     "name": "stdout",
     "output_type": "stream",
     "text": [
      "Total number of columns dropped: 17 columns.\n"
     ]
    }
   ],
   "source": [
    "columns_to_drop = [\n",
    "    'src_ip', 'src_port', 'dst_ip', 'dst_port',\n",
    "    'dns_query', \n",
    "    'ssl_subject', 'ssl_issuer',\n",
    "    'http_uri', 'http_user_agent', 'http_orig_mime_types', 'http_resp_mime_types',\n",
    "    'weird_name', 'weird_addl', 'dns_AA', 'dns_RD', 'dns_RA', 'weird_notice'\n",
    "]\n",
    "new_df = df.drop(columns=columns_to_drop)\n",
    "print(\"Total number of columns dropped: {} columns.\".format(df.shape[1] - new_df.shape[1]))"
   ]
  },
  {
   "cell_type": "markdown",
   "metadata": {},
   "source": [
    "- Handling missing values to be replaced with the mode."
   ]
  },
  {
   "cell_type": "code",
   "execution_count": 9,
   "metadata": {},
   "outputs": [
    {
     "name": "stdout",
     "output_type": "stream",
     "text": [
      "proto: tcp, udp, icmp\n",
      "\n",
      "service: -, smb;gssapi, dce_rpc, smb, dns, ssl, http, ftp, gssapi\n",
      "\n",
      "conn_state: OTH, REJ, S1, RSTR, SF, RSTO, SH, S3, S0, SHR, S2, RSTOS0, RSTRH\n",
      "\n",
      "dns_rejected: -, F, T\n",
      "\n",
      "ssl_version: -, TLSv10, TLSv12, TLSv13\n",
      "\n",
      "ssl_cipher: -, TLS_ECDHE_RSA_WITH_AES_256_CBC_SHA, TLS_ECDHE_RSA_WITH_AES_128_GCM_SHA256, TLS_AES_128_GCM_SHA256, TLS_ECDHE_ECDSA_WITH_AES_128_GCM_SHA256, TLS_ECDHE_RSA_WITH_AES_256_GCM_SHA384\n",
      "\n",
      "ssl_resumed: -, F, T\n",
      "\n",
      "ssl_established: -, T, F\n",
      "\n",
      "http_trans_depth: -, 1, 2, 10, 3, 4, 5, 6, 7, 8, 9\n",
      "\n",
      "http_method: -, GET, POST, HEAD\n",
      "\n",
      "http_version: -, 1.1\n",
      "\n",
      "type: backdoor, ddos, dos, injection, mitm, normal, password, ransomware, scanning, xss\n",
      "\n"
     ]
    }
   ],
   "source": [
    "categorical_cols = new_df.select_dtypes(include=['object']).columns\n",
    "for col in categorical_cols:\n",
    "    if col in new_df.columns:\n",
    "        unique_vals = new_df[col].unique()\n",
    "        print(f\"{col}: {', '.join(map(str, unique_vals))}\\n\")\n",
    "    else:\n",
    "        print(f\"Column '{col}' not found in dataset.\\n\")"
   ]
  },
  {
   "cell_type": "markdown",
   "metadata": {},
   "source": [
    "- Handling missing value: '-'"
   ]
  },
  {
   "cell_type": "code",
   "execution_count": 10,
   "metadata": {},
   "outputs": [],
   "source": [
    "for col in ['proto', 'conn_state', 'http_method', 'http_version', 'ssl_version', 'ssl_cipher']:\n",
    "    new_df[col] = new_df[col].replace(\"-\", \"unknown\")\n",
    "new_df['service'] = new_df['service'].replace(\"-\", \"unknown\")"
   ]
  },
  {
   "cell_type": "code",
   "execution_count": 11,
   "metadata": {},
   "outputs": [
    {
     "name": "stdout",
     "output_type": "stream",
     "text": [
      "\n",
      "Missing data after imputation:\n",
      "dns_rejected        0\n",
      "http_trans_depth    0\n",
      "ssl_resumed         0\n",
      "ssl_established     0\n",
      "dtype: int64\n"
     ]
    }
   ],
   "source": [
    "columns_with_missing_data = ['dns_rejected', 'http_trans_depth', 'ssl_resumed', 'ssl_established']\n",
    "new_df[columns_with_missing_data] = new_df[columns_with_missing_data].replace('-', pd.NA)\n",
    "\n",
    "for col in columns_with_missing_data:\n",
    "    missing_mask = new_df[col].isna()  #rows with missing values\n",
    "    if missing_mask.sum() > 0:  #only perform if there are missing values\n",
    "        #sample randomly from existing values and fill the missing entries\n",
    "        sampled_values = new_df[col].dropna().sample(missing_mask.sum(), replace=True).values\n",
    "        new_df.loc[missing_mask, col] = sampled_values\n",
    "print(\"\\nMissing data after imputation:\")\n",
    "print(new_df[columns_with_missing_data].isna().sum())"
   ]
  },
  {
   "cell_type": "code",
   "execution_count": 12,
   "metadata": {},
   "outputs": [
    {
     "name": "stdout",
     "output_type": "stream",
     "text": [
      "proto: tcp, udp, icmp\n",
      "\n",
      "service: unknown, smb;gssapi, dce_rpc, smb, dns, ssl, http, ftp, gssapi\n",
      "\n",
      "conn_state: OTH, REJ, S1, RSTR, SF, RSTO, SH, S3, S0, SHR, S2, RSTOS0, RSTRH\n",
      "\n",
      "dns_rejected: T, F\n",
      "\n",
      "ssl_version: unknown, TLSv10, TLSv12, TLSv13\n",
      "\n",
      "ssl_cipher: unknown, TLS_ECDHE_RSA_WITH_AES_256_CBC_SHA, TLS_ECDHE_RSA_WITH_AES_128_GCM_SHA256, TLS_AES_128_GCM_SHA256, TLS_ECDHE_ECDSA_WITH_AES_128_GCM_SHA256, TLS_ECDHE_RSA_WITH_AES_256_GCM_SHA384\n",
      "\n",
      "ssl_resumed: T, F\n",
      "\n",
      "ssl_established: F, T\n",
      "\n",
      "http_trans_depth: 1, 8, 2, 3, 5, 6, 10, 9, 4, 7\n",
      "\n",
      "http_method: unknown, GET, POST, HEAD\n",
      "\n",
      "http_version: unknown, 1.1\n",
      "\n",
      "type: backdoor, ddos, dos, injection, mitm, normal, password, ransomware, scanning, xss\n",
      "\n"
     ]
    }
   ],
   "source": [
    "categorical_cols = new_df.select_dtypes(include=['object']).columns\n",
    "for col in categorical_cols:\n",
    "    if col in new_df.columns:\n",
    "        unique_vals = new_df[col].unique()\n",
    "        print(f\"{col}: {', '.join(map(str, unique_vals))}\\n\")\n",
    "    else:\n",
    "        print(f\"Column '{col}' not found in dataset.\\n\")"
   ]
  },
  {
   "cell_type": "code",
   "execution_count": 13,
   "metadata": {},
   "outputs": [
    {
     "name": "stdout",
     "output_type": "stream",
     "text": [
      "Resampled class distribution:\n",
      " label\n",
      "1    161043\n",
      "0    161043\n",
      "Name: count, dtype: int64\n",
      "Resampled data distribution: (322086, 26)\n"
     ]
    }
   ],
   "source": [
    "X = new_df.drop('label', axis=1)\n",
    "y = new_df['label']\n",
    "\n",
    "ros = RandomOverSampler(random_state=42)\n",
    "x_bal, y_bal = ros.fit_resample(X, y)\n",
    "\n",
    "print(\"Resampled class distribution:\\n\", pd.Series(y_bal).value_counts())\n",
    "print(\"Resampled data distribution: {}\".format(x_bal.shape) )"
   ]
  },
  {
   "cell_type": "code",
   "execution_count": 14,
   "metadata": {},
   "outputs": [
    {
     "data": {
      "text/html": [
       "<div>\n",
       "<style scoped>\n",
       "    .dataframe tbody tr th:only-of-type {\n",
       "        vertical-align: middle;\n",
       "    }\n",
       "\n",
       "    .dataframe tbody tr th {\n",
       "        vertical-align: top;\n",
       "    }\n",
       "\n",
       "    .dataframe thead th {\n",
       "        text-align: right;\n",
       "    }\n",
       "</style>\n",
       "<table border=\"1\" class=\"dataframe\">\n",
       "  <thead>\n",
       "    <tr style=\"text-align: right;\">\n",
       "      <th></th>\n",
       "      <th>proto</th>\n",
       "      <th>service</th>\n",
       "      <th>duration</th>\n",
       "      <th>src_bytes</th>\n",
       "      <th>dst_bytes</th>\n",
       "      <th>conn_state</th>\n",
       "      <th>missed_bytes</th>\n",
       "      <th>src_pkts</th>\n",
       "      <th>src_ip_bytes</th>\n",
       "      <th>dst_pkts</th>\n",
       "      <th>...</th>\n",
       "      <th>ssl_cipher</th>\n",
       "      <th>ssl_resumed</th>\n",
       "      <th>ssl_established</th>\n",
       "      <th>http_trans_depth</th>\n",
       "      <th>http_method</th>\n",
       "      <th>http_version</th>\n",
       "      <th>http_request_body_len</th>\n",
       "      <th>http_response_body_len</th>\n",
       "      <th>http_status_code</th>\n",
       "      <th>type</th>\n",
       "    </tr>\n",
       "  </thead>\n",
       "  <tbody>\n",
       "    <tr>\n",
       "      <th>0</th>\n",
       "      <td>tcp</td>\n",
       "      <td>unknown</td>\n",
       "      <td>290.371539</td>\n",
       "      <td>101568</td>\n",
       "      <td>2592</td>\n",
       "      <td>OTH</td>\n",
       "      <td>0</td>\n",
       "      <td>108</td>\n",
       "      <td>108064</td>\n",
       "      <td>31</td>\n",
       "      <td>...</td>\n",
       "      <td>unknown</td>\n",
       "      <td>T</td>\n",
       "      <td>F</td>\n",
       "      <td>1</td>\n",
       "      <td>unknown</td>\n",
       "      <td>unknown</td>\n",
       "      <td>0</td>\n",
       "      <td>0</td>\n",
       "      <td>0</td>\n",
       "      <td>backdoor</td>\n",
       "    </tr>\n",
       "    <tr>\n",
       "      <th>1</th>\n",
       "      <td>tcp</td>\n",
       "      <td>unknown</td>\n",
       "      <td>0.000102</td>\n",
       "      <td>0</td>\n",
       "      <td>0</td>\n",
       "      <td>REJ</td>\n",
       "      <td>0</td>\n",
       "      <td>1</td>\n",
       "      <td>52</td>\n",
       "      <td>1</td>\n",
       "      <td>...</td>\n",
       "      <td>unknown</td>\n",
       "      <td>F</td>\n",
       "      <td>F</td>\n",
       "      <td>1</td>\n",
       "      <td>unknown</td>\n",
       "      <td>unknown</td>\n",
       "      <td>0</td>\n",
       "      <td>0</td>\n",
       "      <td>0</td>\n",
       "      <td>backdoor</td>\n",
       "    </tr>\n",
       "    <tr>\n",
       "      <th>2</th>\n",
       "      <td>tcp</td>\n",
       "      <td>unknown</td>\n",
       "      <td>0.000148</td>\n",
       "      <td>0</td>\n",
       "      <td>0</td>\n",
       "      <td>REJ</td>\n",
       "      <td>0</td>\n",
       "      <td>1</td>\n",
       "      <td>52</td>\n",
       "      <td>1</td>\n",
       "      <td>...</td>\n",
       "      <td>unknown</td>\n",
       "      <td>F</td>\n",
       "      <td>T</td>\n",
       "      <td>8</td>\n",
       "      <td>unknown</td>\n",
       "      <td>unknown</td>\n",
       "      <td>0</td>\n",
       "      <td>0</td>\n",
       "      <td>0</td>\n",
       "      <td>backdoor</td>\n",
       "    </tr>\n",
       "    <tr>\n",
       "      <th>3</th>\n",
       "      <td>tcp</td>\n",
       "      <td>unknown</td>\n",
       "      <td>0.000113</td>\n",
       "      <td>0</td>\n",
       "      <td>0</td>\n",
       "      <td>REJ</td>\n",
       "      <td>0</td>\n",
       "      <td>1</td>\n",
       "      <td>48</td>\n",
       "      <td>1</td>\n",
       "      <td>...</td>\n",
       "      <td>unknown</td>\n",
       "      <td>F</td>\n",
       "      <td>F</td>\n",
       "      <td>1</td>\n",
       "      <td>unknown</td>\n",
       "      <td>unknown</td>\n",
       "      <td>0</td>\n",
       "      <td>0</td>\n",
       "      <td>0</td>\n",
       "      <td>backdoor</td>\n",
       "    </tr>\n",
       "    <tr>\n",
       "      <th>4</th>\n",
       "      <td>tcp</td>\n",
       "      <td>unknown</td>\n",
       "      <td>0.000130</td>\n",
       "      <td>0</td>\n",
       "      <td>0</td>\n",
       "      <td>REJ</td>\n",
       "      <td>0</td>\n",
       "      <td>1</td>\n",
       "      <td>52</td>\n",
       "      <td>1</td>\n",
       "      <td>...</td>\n",
       "      <td>unknown</td>\n",
       "      <td>T</td>\n",
       "      <td>F</td>\n",
       "      <td>1</td>\n",
       "      <td>unknown</td>\n",
       "      <td>unknown</td>\n",
       "      <td>0</td>\n",
       "      <td>0</td>\n",
       "      <td>0</td>\n",
       "      <td>backdoor</td>\n",
       "    </tr>\n",
       "  </tbody>\n",
       "</table>\n",
       "<p>5 rows × 26 columns</p>\n",
       "</div>"
      ],
      "text/plain": [
       "  proto  service    duration  src_bytes  dst_bytes conn_state  missed_bytes  \\\n",
       "0   tcp  unknown  290.371539     101568       2592        OTH             0   \n",
       "1   tcp  unknown    0.000102          0          0        REJ             0   \n",
       "2   tcp  unknown    0.000148          0          0        REJ             0   \n",
       "3   tcp  unknown    0.000113          0          0        REJ             0   \n",
       "4   tcp  unknown    0.000130          0          0        REJ             0   \n",
       "\n",
       "   src_pkts  src_ip_bytes  dst_pkts  ...  ssl_cipher  ssl_resumed  \\\n",
       "0       108        108064        31  ...     unknown            T   \n",
       "1         1            52         1  ...     unknown            F   \n",
       "2         1            52         1  ...     unknown            F   \n",
       "3         1            48         1  ...     unknown            F   \n",
       "4         1            52         1  ...     unknown            T   \n",
       "\n",
       "   ssl_established  http_trans_depth http_method http_version  \\\n",
       "0                F                 1     unknown      unknown   \n",
       "1                F                 1     unknown      unknown   \n",
       "2                T                 8     unknown      unknown   \n",
       "3                F                 1     unknown      unknown   \n",
       "4                F                 1     unknown      unknown   \n",
       "\n",
       "  http_request_body_len http_response_body_len http_status_code      type  \n",
       "0                     0                      0                0  backdoor  \n",
       "1                     0                      0                0  backdoor  \n",
       "2                     0                      0                0  backdoor  \n",
       "3                     0                      0                0  backdoor  \n",
       "4                     0                      0                0  backdoor  \n",
       "\n",
       "[5 rows x 26 columns]"
      ]
     },
     "execution_count": 14,
     "metadata": {},
     "output_type": "execute_result"
    }
   ],
   "source": [
    "x_bal.head()"
   ]
  },
  {
   "cell_type": "markdown",
   "metadata": {},
   "source": [
    "- Handling target class imbalance"
   ]
  },
  {
   "cell_type": "code",
   "execution_count": 15,
   "metadata": {},
   "outputs": [],
   "source": [
    "encoding_mappings = {}\n",
    "categorical_columns = x_bal.select_dtypes(include=['object']).columns\n",
    "label_encoder = LabelEncoder()\n",
    "\n",
    "for col in categorical_columns:\n",
    "    x_bal[col] = label_encoder.fit_transform(x_bal[col]) #apply label encoding to the columns\n",
    "    encoding_mappings[col] = dict(zip(label_encoder.classes_, label_encoder.transform(label_encoder.classes_))) #store the encoding mapping"
   ]
  },
  {
   "cell_type": "markdown",
   "metadata": {},
   "source": [
    "- save the mappings to a CSV file for later reference"
   ]
  },
  {
   "cell_type": "code",
   "execution_count": 16,
   "metadata": {},
   "outputs": [
    {
     "name": "stdout",
     "output_type": "stream",
     "text": [
      "Encoding mapping for proto: {'icmp': np.int64(0), 'tcp': np.int64(1), 'udp': np.int64(2)}\n",
      "Encoding mapping for service: {'dce_rpc': np.int64(0), 'dns': np.int64(1), 'ftp': np.int64(2), 'gssapi': np.int64(3), 'http': np.int64(4), 'smb': np.int64(5), 'smb;gssapi': np.int64(6), 'ssl': np.int64(7), 'unknown': np.int64(8)}\n",
      "Encoding mapping for conn_state: {'OTH': np.int64(0), 'REJ': np.int64(1), 'RSTO': np.int64(2), 'RSTOS0': np.int64(3), 'RSTR': np.int64(4), 'RSTRH': np.int64(5), 'S0': np.int64(6), 'S1': np.int64(7), 'S2': np.int64(8), 'S3': np.int64(9), 'SF': np.int64(10), 'SH': np.int64(11), 'SHR': np.int64(12)}\n",
      "Encoding mapping for dns_rejected: {'F': np.int64(0), 'T': np.int64(1)}\n",
      "Encoding mapping for ssl_version: {'TLSv10': np.int64(0), 'TLSv12': np.int64(1), 'TLSv13': np.int64(2), 'unknown': np.int64(3)}\n",
      "Encoding mapping for ssl_cipher: {'TLS_AES_128_GCM_SHA256': np.int64(0), 'TLS_ECDHE_ECDSA_WITH_AES_128_GCM_SHA256': np.int64(1), 'TLS_ECDHE_RSA_WITH_AES_128_GCM_SHA256': np.int64(2), 'TLS_ECDHE_RSA_WITH_AES_256_CBC_SHA': np.int64(3), 'TLS_ECDHE_RSA_WITH_AES_256_GCM_SHA384': np.int64(4), 'unknown': np.int64(5)}\n",
      "Encoding mapping for ssl_resumed: {'F': np.int64(0), 'T': np.int64(1)}\n",
      "Encoding mapping for ssl_established: {'F': np.int64(0), 'T': np.int64(1)}\n",
      "Encoding mapping for http_trans_depth: {'1': np.int64(0), '10': np.int64(1), '2': np.int64(2), '3': np.int64(3), '4': np.int64(4), '5': np.int64(5), '6': np.int64(6), '7': np.int64(7), '8': np.int64(8), '9': np.int64(9)}\n",
      "Encoding mapping for http_method: {'GET': np.int64(0), 'HEAD': np.int64(1), 'POST': np.int64(2), 'unknown': np.int64(3)}\n",
      "Encoding mapping for http_version: {'1.1': np.int64(0), 'unknown': np.int64(1)}\n",
      "Encoding mapping for type: {'backdoor': np.int64(0), 'ddos': np.int64(1), 'dos': np.int64(2), 'injection': np.int64(3), 'mitm': np.int64(4), 'normal': np.int64(5), 'password': np.int64(6), 'ransomware': np.int64(7), 'scanning': np.int64(8), 'xss': np.int64(9)}\n"
     ]
    }
   ],
   "source": [
    "for column, mapping in encoding_mappings.items():\n",
    "    print(\"Encoding mapping for {}: {}\".format(column, mapping))"
   ]
  },
  {
   "cell_type": "code",
   "execution_count": 17,
   "metadata": {},
   "outputs": [
    {
     "data": {
      "text/html": [
       "<div>\n",
       "<style scoped>\n",
       "    .dataframe tbody tr th:only-of-type {\n",
       "        vertical-align: middle;\n",
       "    }\n",
       "\n",
       "    .dataframe tbody tr th {\n",
       "        vertical-align: top;\n",
       "    }\n",
       "\n",
       "    .dataframe thead th {\n",
       "        text-align: right;\n",
       "    }\n",
       "</style>\n",
       "<table border=\"1\" class=\"dataframe\">\n",
       "  <thead>\n",
       "    <tr style=\"text-align: right;\">\n",
       "      <th></th>\n",
       "      <th>proto</th>\n",
       "      <th>service</th>\n",
       "      <th>duration</th>\n",
       "      <th>src_bytes</th>\n",
       "      <th>dst_bytes</th>\n",
       "      <th>conn_state</th>\n",
       "      <th>missed_bytes</th>\n",
       "      <th>src_pkts</th>\n",
       "      <th>src_ip_bytes</th>\n",
       "      <th>dst_pkts</th>\n",
       "      <th>...</th>\n",
       "      <th>ssl_cipher</th>\n",
       "      <th>ssl_resumed</th>\n",
       "      <th>ssl_established</th>\n",
       "      <th>http_trans_depth</th>\n",
       "      <th>http_method</th>\n",
       "      <th>http_version</th>\n",
       "      <th>http_request_body_len</th>\n",
       "      <th>http_response_body_len</th>\n",
       "      <th>http_status_code</th>\n",
       "      <th>type</th>\n",
       "    </tr>\n",
       "  </thead>\n",
       "  <tbody>\n",
       "    <tr>\n",
       "      <th>0</th>\n",
       "      <td>1</td>\n",
       "      <td>8</td>\n",
       "      <td>290.371539</td>\n",
       "      <td>101568</td>\n",
       "      <td>2592</td>\n",
       "      <td>0</td>\n",
       "      <td>0</td>\n",
       "      <td>108</td>\n",
       "      <td>108064</td>\n",
       "      <td>31</td>\n",
       "      <td>...</td>\n",
       "      <td>5</td>\n",
       "      <td>1</td>\n",
       "      <td>0</td>\n",
       "      <td>0</td>\n",
       "      <td>3</td>\n",
       "      <td>1</td>\n",
       "      <td>0</td>\n",
       "      <td>0</td>\n",
       "      <td>0</td>\n",
       "      <td>0</td>\n",
       "    </tr>\n",
       "    <tr>\n",
       "      <th>1</th>\n",
       "      <td>1</td>\n",
       "      <td>8</td>\n",
       "      <td>0.000102</td>\n",
       "      <td>0</td>\n",
       "      <td>0</td>\n",
       "      <td>1</td>\n",
       "      <td>0</td>\n",
       "      <td>1</td>\n",
       "      <td>52</td>\n",
       "      <td>1</td>\n",
       "      <td>...</td>\n",
       "      <td>5</td>\n",
       "      <td>0</td>\n",
       "      <td>0</td>\n",
       "      <td>0</td>\n",
       "      <td>3</td>\n",
       "      <td>1</td>\n",
       "      <td>0</td>\n",
       "      <td>0</td>\n",
       "      <td>0</td>\n",
       "      <td>0</td>\n",
       "    </tr>\n",
       "    <tr>\n",
       "      <th>2</th>\n",
       "      <td>1</td>\n",
       "      <td>8</td>\n",
       "      <td>0.000148</td>\n",
       "      <td>0</td>\n",
       "      <td>0</td>\n",
       "      <td>1</td>\n",
       "      <td>0</td>\n",
       "      <td>1</td>\n",
       "      <td>52</td>\n",
       "      <td>1</td>\n",
       "      <td>...</td>\n",
       "      <td>5</td>\n",
       "      <td>0</td>\n",
       "      <td>1</td>\n",
       "      <td>8</td>\n",
       "      <td>3</td>\n",
       "      <td>1</td>\n",
       "      <td>0</td>\n",
       "      <td>0</td>\n",
       "      <td>0</td>\n",
       "      <td>0</td>\n",
       "    </tr>\n",
       "    <tr>\n",
       "      <th>3</th>\n",
       "      <td>1</td>\n",
       "      <td>8</td>\n",
       "      <td>0.000113</td>\n",
       "      <td>0</td>\n",
       "      <td>0</td>\n",
       "      <td>1</td>\n",
       "      <td>0</td>\n",
       "      <td>1</td>\n",
       "      <td>48</td>\n",
       "      <td>1</td>\n",
       "      <td>...</td>\n",
       "      <td>5</td>\n",
       "      <td>0</td>\n",
       "      <td>0</td>\n",
       "      <td>0</td>\n",
       "      <td>3</td>\n",
       "      <td>1</td>\n",
       "      <td>0</td>\n",
       "      <td>0</td>\n",
       "      <td>0</td>\n",
       "      <td>0</td>\n",
       "    </tr>\n",
       "    <tr>\n",
       "      <th>4</th>\n",
       "      <td>1</td>\n",
       "      <td>8</td>\n",
       "      <td>0.000130</td>\n",
       "      <td>0</td>\n",
       "      <td>0</td>\n",
       "      <td>1</td>\n",
       "      <td>0</td>\n",
       "      <td>1</td>\n",
       "      <td>52</td>\n",
       "      <td>1</td>\n",
       "      <td>...</td>\n",
       "      <td>5</td>\n",
       "      <td>1</td>\n",
       "      <td>0</td>\n",
       "      <td>0</td>\n",
       "      <td>3</td>\n",
       "      <td>1</td>\n",
       "      <td>0</td>\n",
       "      <td>0</td>\n",
       "      <td>0</td>\n",
       "      <td>0</td>\n",
       "    </tr>\n",
       "  </tbody>\n",
       "</table>\n",
       "<p>5 rows × 26 columns</p>\n",
       "</div>"
      ],
      "text/plain": [
       "   proto  service    duration  src_bytes  dst_bytes  conn_state  missed_bytes  \\\n",
       "0      1        8  290.371539     101568       2592           0             0   \n",
       "1      1        8    0.000102          0          0           1             0   \n",
       "2      1        8    0.000148          0          0           1             0   \n",
       "3      1        8    0.000113          0          0           1             0   \n",
       "4      1        8    0.000130          0          0           1             0   \n",
       "\n",
       "   src_pkts  src_ip_bytes  dst_pkts  ...  ssl_cipher  ssl_resumed  \\\n",
       "0       108        108064        31  ...           5            1   \n",
       "1         1            52         1  ...           5            0   \n",
       "2         1            52         1  ...           5            0   \n",
       "3         1            48         1  ...           5            0   \n",
       "4         1            52         1  ...           5            1   \n",
       "\n",
       "   ssl_established  http_trans_depth  http_method  http_version  \\\n",
       "0                0                 0            3             1   \n",
       "1                0                 0            3             1   \n",
       "2                1                 8            3             1   \n",
       "3                0                 0            3             1   \n",
       "4                0                 0            3             1   \n",
       "\n",
       "   http_request_body_len  http_response_body_len  http_status_code  type  \n",
       "0                      0                       0                 0     0  \n",
       "1                      0                       0                 0     0  \n",
       "2                      0                       0                 0     0  \n",
       "3                      0                       0                 0     0  \n",
       "4                      0                       0                 0     0  \n",
       "\n",
       "[5 rows x 26 columns]"
      ]
     },
     "execution_count": 17,
     "metadata": {},
     "output_type": "execute_result"
    }
   ],
   "source": [
    "x_bal.head()"
   ]
  },
  {
   "cell_type": "markdown",
   "metadata": {},
   "source": [
    "- lastly sclaing the preprocessed data before training"
   ]
  },
  {
   "cell_type": "code",
   "execution_count": 18,
   "metadata": {},
   "outputs": [
    {
     "data": {
      "text/plain": [
       "array([[-0.72481576,  0.86964008,  0.61110989, ..., -0.00722524,\n",
       "        -0.05038041, -2.09118416],\n",
       "       [-0.72481576,  0.86964008, -0.01308605, ..., -0.00722524,\n",
       "        -0.05038041, -2.09118416],\n",
       "       [-0.72481576,  0.86964008, -0.01308595, ..., -0.00722524,\n",
       "        -0.05038041, -2.09118416],\n",
       "       ...,\n",
       "       [-0.72481576,  0.86964008, -0.01263952, ..., -0.00722524,\n",
       "        -0.05038041,  0.11081292],\n",
       "       [ 1.35926977, -1.31775123, -0.01308621, ..., -0.00722524,\n",
       "        -0.05038041,  0.11081292],\n",
       "       [ 1.35926977, -1.31775123, -0.01308619, ..., -0.00722524,\n",
       "        -0.05038041,  0.11081292]])"
      ]
     },
     "execution_count": 18,
     "metadata": {},
     "output_type": "execute_result"
    }
   ],
   "source": [
    "scaler = StandardScaler()\n",
    "x_bal = scaler.fit_transform(x_bal)\n",
    "x_bal"
   ]
  },
  {
   "cell_type": "markdown",
   "metadata": {},
   "source": [
    "<h3> Model Training<h3>"
   ]
  },
  {
   "cell_type": "code",
   "execution_count": 19,
   "metadata": {},
   "outputs": [],
   "source": [
    "x_train, x_test, y_train, y_test = train_test_split(x_bal, y_bal, test_size=0.2)"
   ]
  },
  {
   "cell_type": "code",
   "execution_count": 20,
   "metadata": {},
   "outputs": [
    {
     "name": "stderr",
     "output_type": "stream",
     "text": [
      "c:\\Users\\Hp\\AppData\\Local\\Programs\\Python\\Python310\\lib\\site-packages\\keras\\src\\layers\\core\\dense.py:87: UserWarning: Do not pass an `input_shape`/`input_dim` argument to a layer. When using Sequential models, prefer using an `Input(shape)` object as the first layer in the model instead.\n",
      "  super().__init__(activity_regularizer=activity_regularizer, **kwargs)\n"
     ]
    }
   ],
   "source": [
    "model = Sequential([\n",
    "    Dense(128, activation='relu', input_shape=(x_train.shape[1],)),\n",
    "    Dropout(0.3),\n",
    "    Dense(64, activation='relu'),\n",
    "    Dropout(0.3),\n",
    "    Dense(32, activation='relu'),\n",
    "    Dense(1, activation='sigmoid')  # binary classification\n",
    "])\n",
    "\n",
    "# Compile the model\n",
    "model.compile(optimizer=Adam(learning_rate=0.001),\n",
    "              loss='binary_crossentropy',\n",
    "              metrics=['accuracy'])"
   ]
  },
  {
   "cell_type": "code",
   "execution_count": 21,
   "metadata": {},
   "outputs": [
    {
     "name": "stdout",
     "output_type": "stream",
     "text": [
      "Epoch 1/10\n",
      "\u001b[1m2014/2014\u001b[0m \u001b[32m━━━━━━━━━━━━━━━━━━━━\u001b[0m\u001b[37m\u001b[0m \u001b[1m109s\u001b[0m 47ms/step - accuracy: 0.9544 - loss: 0.1199 - val_accuracy: 0.9997 - val_loss: 0.0018\n",
      "Epoch 2/10\n",
      "\u001b[1m2014/2014\u001b[0m \u001b[32m━━━━━━━━━━━━━━━━━━━━\u001b[0m\u001b[37m\u001b[0m \u001b[1m137s\u001b[0m 44ms/step - accuracy: 0.9996 - loss: 0.0029 - val_accuracy: 0.9997 - val_loss: 0.0011\n",
      "Epoch 3/10\n",
      "\u001b[1m2014/2014\u001b[0m \u001b[32m━━━━━━━━━━━━━━━━━━━━\u001b[0m\u001b[37m\u001b[0m \u001b[1m136s\u001b[0m 41ms/step - accuracy: 0.9997 - loss: 0.0016 - val_accuracy: 0.9999 - val_loss: 5.6171e-04\n",
      "Epoch 4/10\n",
      "\u001b[1m2014/2014\u001b[0m \u001b[32m━━━━━━━━━━━━━━━━━━━━\u001b[0m\u001b[37m\u001b[0m \u001b[1m146s\u001b[0m 43ms/step - accuracy: 0.9999 - loss: 0.0011 - val_accuracy: 0.9999 - val_loss: 6.8058e-04\n",
      "Epoch 5/10\n",
      "\u001b[1m2014/2014\u001b[0m \u001b[32m━━━━━━━━━━━━━━━━━━━━\u001b[0m\u001b[37m\u001b[0m \u001b[1m141s\u001b[0m 42ms/step - accuracy: 0.9998 - loss: 8.9144e-04 - val_accuracy: 0.9998 - val_loss: 8.5662e-04\n",
      "Epoch 6/10\n",
      "\u001b[1m2014/2014\u001b[0m \u001b[32m━━━━━━━━━━━━━━━━━━━━\u001b[0m\u001b[37m\u001b[0m \u001b[1m142s\u001b[0m 42ms/step - accuracy: 0.9998 - loss: 0.0011 - val_accuracy: 0.9999 - val_loss: 6.5793e-04\n",
      "Epoch 7/10\n",
      "\u001b[1m2014/2014\u001b[0m \u001b[32m━━━━━━━━━━━━━━━━━━━━\u001b[0m\u001b[37m\u001b[0m \u001b[1m143s\u001b[0m 42ms/step - accuracy: 0.9998 - loss: 6.9679e-04 - val_accuracy: 0.9999 - val_loss: 6.4859e-04\n",
      "Epoch 8/10\n",
      "\u001b[1m2014/2014\u001b[0m \u001b[32m━━━━━━━━━━━━━━━━━━━━\u001b[0m\u001b[37m\u001b[0m \u001b[1m148s\u001b[0m 45ms/step - accuracy: 0.9998 - loss: 0.0012 - val_accuracy: 0.9999 - val_loss: 7.9289e-04\n",
      "Epoch 9/10\n",
      "\u001b[1m2014/2014\u001b[0m \u001b[32m━━━━━━━━━━━━━━━━━━━━\u001b[0m\u001b[37m\u001b[0m \u001b[1m143s\u001b[0m 45ms/step - accuracy: 0.9999 - loss: 8.8874e-04 - val_accuracy: 0.9999 - val_loss: 5.1934e-04\n",
      "Epoch 10/10\n",
      "\u001b[1m2014/2014\u001b[0m \u001b[32m━━━━━━━━━━━━━━━━━━━━\u001b[0m\u001b[37m\u001b[0m \u001b[1m139s\u001b[0m 43ms/step - accuracy: 0.9999 - loss: 5.9158e-04 - val_accuracy: 0.9998 - val_loss: 5.9497e-04\n"
     ]
    }
   ],
   "source": [
    "history = model.fit(x_train, y_train,\n",
    "                    epochs=10,\n",
    "                    batch_size=128,\n",
    "                    validation_data=(x_test, y_test))"
   ]
  },
  {
   "cell_type": "markdown",
   "metadata": {},
   "source": [
    "<h3>Model Evaluation<h3>"
   ]
  },
  {
   "cell_type": "markdown",
   "metadata": {},
   "source": [
    "- Accuracy over epochs"
   ]
  },
  {
   "cell_type": "code",
   "execution_count": 22,
   "metadata": {},
   "outputs": [
    {
     "data": {
      "text/plain": [
       "<matplotlib.legend.Legend at 0x2628e1c1600>"
      ]
     },
     "execution_count": 22,
     "metadata": {},
     "output_type": "execute_result"
    },
    {
     "data": {
      "image/png": "[encoded data removed]",
      "text/plain": [
       "<Figure size 1200x500 with 1 Axes>"
      ]
     },
     "metadata": {},
     "output_type": "display_data"
    }
   ],
   "source": [
    "plt.figure(figsize=(12,5))\n",
    "plt.subplot(1,2,1)\n",
    "plt.plot(history.history['accuracy'], label='Train Accuracy')\n",
    "plt.plot(history.history['val_accuracy'], label='Validation Accuracy')\n",
    "plt.title('Accuracy Over Epochs')\n",
    "plt.xlabel('Epoch')\n",
    "plt.ylabel('Accuracy')\n",
    "plt.legend()"
   ]
  },
  {
   "cell_type": "markdown",
   "metadata": {},
   "source": [
    "- Loss over epochs"
   ]
  },
  {
   "cell_type": "code",
   "execution_count": 23,
   "metadata": {},
   "outputs": [
    {
     "data": {
      "image/png": "[encoded data removed]",
      "text/plain": [
       "<Figure size 640x480 with 1 Axes>"
      ]
     },
     "metadata": {},
     "output_type": "display_data"
    }
   ],
   "source": [
    "plt.subplot(1,2,2)\n",
    "plt.plot(history.history['loss'], label='Train Loss')\n",
    "plt.plot(history.history['val_loss'], label='Validation Loss')\n",
    "plt.title('Loss Over Epochs')\n",
    "plt.xlabel('Epoch')\n",
    "plt.ylabel('Loss')\n",
    "plt.legend()\n",
    "\n",
    "plt.tight_layout()\n",
    "plt.show()"
   ]
  },
  {
   "cell_type": "markdown",
   "metadata": {},
   "source": [
    "- Accuracy, precision, recall, and f1 score"
   ]
  },
  {
   "cell_type": "code",
   "execution_count": 24,
   "metadata": {},
   "outputs": [
    {
     "name": "stdout",
     "output_type": "stream",
     "text": [
      "\u001b[1m2014/2014\u001b[0m \u001b[32m━━━━━━━━━━━━━━━━━━━━\u001b[0m\u001b[37m\u001b[0m \u001b[1m61s\u001b[0m 29ms/step - accuracy: 0.9999 - loss: 3.4433e-04\n",
      "\u001b[1m2014/2014\u001b[0m \u001b[32m━━━━━━━━━━━━━━━━━━━━\u001b[0m\u001b[37m\u001b[0m \u001b[1m39s\u001b[0m 19ms/step\n",
      "Accuracy: 0.9998\n",
      "Precision: 1.0000\n",
      "Recall: 0.9997\n",
      "F1 Score: 0.9998\n"
     ]
    }
   ],
   "source": [
    "loss, accuracy = model.evaluate(x_test, y_test)\n",
    "y_pred_prob = model.predict(x_test)\n",
    "y_pred = (y_pred_prob > 0.5)\n",
    "\n",
    "acc = accuracy_score(y_test, y_pred)\n",
    "prec = precision_score(y_test, y_pred)\n",
    "rec = recall_score(y_test, y_pred)\n",
    "f1 = f1_score(y_test, y_pred)\n",
    "\n",
    "print('Accuracy: {:.4f}'.format(acc))\n",
    "print('Precision: {:.4f}'.format(prec))\n",
    "print('Recall: {:.4f}'.format(rec))\n",
    "print('F1 Score: {:.4f}'.format(f1))"
   ]
  },
  {
   "cell_type": "markdown",
   "metadata": {},
   "source": [
    "- Confusion matrix"
   ]
  },
  {
   "cell_type": "code",
   "execution_count": 35,
   "metadata": {},
   "outputs": [
    {
     "data": {
      "text/plain": [
       "<sklearn.metrics._plot.confusion_matrix.ConfusionMatrixDisplay at 0x262a025f730>"
      ]
     },
     "execution_count": 35,
     "metadata": {},
     "output_type": "execute_result"
    },
    {
     "data": {
      "image/png": "[encoded data removed]",
      "text/plain": [
       "<Figure size 640x480 with 2 Axes>"
      ]
     },
     "metadata": {},
     "output_type": "display_data"
    }
   ],
   "source": [
    "conf = confusion_matrix(y_test, y_pred)\n",
    "ConfusionMatrixDisplay(conf).plot(cmap='Blues')"
   ]
  },
  {
   "cell_type": "code",
   "execution_count": 29,
   "metadata": {},
   "outputs": [
    {
     "name": "stderr",
     "output_type": "stream",
     "text": [
      "WARNING:absl:You are saving your model as an HDF5 file via `model.save()` or `keras.saving.save_model(model)`. This file format is considered legacy. We recommend using instead the native Keras format, e.g. `model.save('my_model.keras')` or `keras.saving.save_model(model, 'my_model.keras')`. \n"
     ]
    }
   ],
   "source": [
    "model.save('network_classification_model.h5')"
   ]
  }
 ],
 "metadata": {
  "kernelspec": {
   "display_name": "Python 3",
   "language": "python",
   "name": "python3"
  },
  "language_info": {
   "codemirror_mode": {
    "name": "ipython",
    "version": 3
   },
   "file_extension": ".py",
   "mimetype": "text/x-python",
   "name": "python",
   "nbconvert_exporter": "python",
   "pygments_lexer": "ipython3",
   "version": "3.10.11"
  }
 },
 "nbformat": 4,
 "nbformat_minor": 2
}
